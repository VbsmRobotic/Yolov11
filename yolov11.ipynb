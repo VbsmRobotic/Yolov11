{
  "nbformat": 4,
  "nbformat_minor": 0,
  "metadata": {
    "colab": {
      "provenance": [],
      "gpuType": "T4",
      "include_colab_link": true
    },
    "kernelspec": {
      "name": "python3",
      "display_name": "Python 3"
    },
    "language_info": {
      "name": "python"
    },
    "accelerator": "GPU"
  },
  "cells": [
    {
      "cell_type": "markdown",
      "metadata": {
        "id": "view-in-github",
        "colab_type": "text"
      },
      "source": [
        "<a href=\"https://colab.research.google.com/github/VbsmRobotic/Yolov11/blob/main/yolov11.ipynb\" target=\"_parent\"><img src=\"https://colab.research.google.com/assets/colab-badge.svg\" alt=\"Open In Colab\"/></a>"
      ]
    },
    {
      "cell_type": "markdown",
      "source": [
        "*  It does not rely on anchor boxes for object detection.\n",
        "*  Accelerates the Non-Maximum Suppression (NMS) process—a complex post-processing step that filters overlapping detections after inference.\n",
        "*  Real-time image augmentation (One notable augmentation technique is mosaic augmentation, where four images are combined into one.)\n",
        "\n",
        "\n",
        "\n"
      ],
      "metadata": {
        "id": "7MBSwIN6UIoK"
      }
    },
    {
      "cell_type": "code",
      "source": [
        "from google.colab import drive\n",
        "drive.mount('/content/drive')"
      ],
      "metadata": {
        "id": "dujrPI5tGWNF",
        "colab": {
          "base_uri": "https://localhost:8080/"
        },
        "outputId": "71381d46-26bb-4bd3-bd03-6e8606e2a944"
      },
      "execution_count": 1,
      "outputs": [
        {
          "output_type": "stream",
          "name": "stdout",
          "text": [
            "Mounted at /content/drive\n"
          ]
        }
      ]
    },
    {
      "cell_type": "markdown",
      "source": [],
      "metadata": {
        "id": "FhFhTuJ0PBsW"
      }
    },
    {
      "cell_type": "code",
      "source": [
        "ROOT_DIR='/content/gdrive/MyDrive/Deep-Learning_projects_colab/yolov11/'"
      ],
      "metadata": {
        "id": "cfP2AXUuMIsK"
      },
      "execution_count": 3,
      "outputs": []
    },
    {
      "cell_type": "markdown",
      "source": [],
      "metadata": {
        "id": "QNspjIoLPCOT"
      }
    },
    {
      "cell_type": "code",
      "source": [
        "!git clone https://github.com/ultralytics/ultralytics"
      ],
      "metadata": {
        "colab": {
          "base_uri": "https://localhost:8080/"
        },
        "id": "HoctHcKjMnn4",
        "outputId": "6549446b-9878-424d-e49d-8e6ab2a7d395"
      },
      "execution_count": 4,
      "outputs": [
        {
          "output_type": "stream",
          "name": "stdout",
          "text": [
            "Cloning into 'ultralytics'...\n",
            "remote: Enumerating objects: 62051, done.\u001b[K\n",
            "remote: Counting objects: 100% (361/361), done.\u001b[K\n",
            "remote: Compressing objects: 100% (271/271), done.\u001b[K\n",
            "remote: Total 62051 (delta 253), reused 109 (delta 90), pack-reused 61690 (from 5)\u001b[K\n",
            "Receiving objects: 100% (62051/62051), 33.78 MiB | 13.08 MiB/s, done.\n",
            "Resolving deltas: 100% (46159/46159), done.\n"
          ]
        }
      ]
    }
  ]
}