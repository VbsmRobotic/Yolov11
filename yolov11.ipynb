{
  "nbformat": 4,
  "nbformat_minor": 0,
  "metadata": {
    "colab": {
      "provenance": [],
      "gpuType": "T4",
      "include_colab_link": true
    },
    "kernelspec": {
      "name": "python3",
      "display_name": "Python 3"
    },
    "language_info": {
      "name": "python"
    },
    "accelerator": "GPU"
  },
  "cells": [
    {
      "cell_type": "markdown",
      "metadata": {
        "id": "view-in-github",
        "colab_type": "text"
      },
      "source": [
        "<a href=\"https://colab.research.google.com/github/VbsmRobotic/Yolov11/blob/main/yolov11.ipynb\" target=\"_parent\"><img src=\"https://colab.research.google.com/assets/colab-badge.svg\" alt=\"Open In Colab\"/></a>"
      ]
    },
    {
      "cell_type": "markdown",
      "source": [
        "*  It does not rely on anchor boxes for object detection.\n",
        "*  Accelerates the Non-Maximum Suppression (NMS) process—a complex post-processing step that filters overlapping detections after inference.\n",
        "*  Real-time image augmentation (One notable augmentation technique is mosaic augmentation, where four images are combined into one.)\n",
        "\n",
        "\n",
        "\n"
      ],
      "metadata": {
        "id": "7MBSwIN6UIoK"
      }
    },
    {
      "cell_type": "code",
      "source": [
        "from google.colab import drive\n",
        "drive.mount('/content/drive')\n",
        "\n",
        "# List contents of your Google Drive to see what's available\n",
        "import os\n",
        "print(\"Contents of /content/drive/My Drive/:\")\n",
        "print(os.listdir('/content/drive/My Drive/'))\n",
        "\n",
        "# Check if the specific directory exists\n",
        "ROOT_DIR = '/content/drive/My Drive/DL_projects/yolov11/'\n",
        "if os.path.exists(ROOT_DIR):\n",
        "    print(f\"Directory exists: {ROOT_DIR}\")\n",
        "    %cd {ROOT_DIR}\n",
        "else:\n",
        "    print(f\"Directory does not exist: {ROOT_DIR}\")\n",
        "    print(\"Available directories:\")\n",
        "    for item in os.listdir('/content/drive/My Drive/'):\n",
        "        print(f\"  - {item}\")"
      ],
      "metadata": {
        "colab": {
          "base_uri": "https://localhost:8080/"
        },
        "id": "VkW4NBlsk0Gb",
        "outputId": "3ee66851-2d9d-4a98-d424-685dd51673f1"
      },
      "execution_count": 35,
      "outputs": [
        {
          "output_type": "stream",
          "name": "stdout",
          "text": [
            "Drive already mounted at /content/drive; to attempt to forcibly remount, call drive.mount(\"/content/drive\", force_remount=True).\n",
            "Contents of /content/drive/My Drive/:\n",
            "['DL_projects']\n",
            "Directory exists: /content/drive/My Drive/DL_projects/yolov11/\n",
            "/content/drive/My Drive/DL_projects/yolov11\n"
          ]
        }
      ]
    },
    {
      "cell_type": "code",
      "source": [
        "!git clone https://github.com/ultralytics/ultralytics.git"
      ],
      "metadata": {
        "colab": {
          "base_uri": "https://localhost:8080/"
        },
        "id": "GUkXXCqrk7aG",
        "outputId": "8ce65020-3efb-433d-e584-0b4d2dde7fa8"
      },
      "execution_count": 42,
      "outputs": [
        {
          "output_type": "stream",
          "name": "stdout",
          "text": [
            "Cloning into 'ultralytics'...\n",
            "remote: Enumerating objects: 62053, done.\u001b[K\n",
            "remote: Counting objects: 100% (320/320), done.\u001b[K\n",
            "remote: Compressing objects: 100% (224/224), done.\u001b[K\n",
            "remote: Total 62053 (delta 243), reused 96 (delta 96), pack-reused 61733 (from 4)\u001b[K\n",
            "Receiving objects: 100% (62053/62053), 33.85 MiB | 16.17 MiB/s, done.\n",
            "Resolving deltas: 100% (46126/46126), done.\n",
            "Updating files: 100% (753/753), done.\n"
          ]
        }
      ]
    }
  ]
}